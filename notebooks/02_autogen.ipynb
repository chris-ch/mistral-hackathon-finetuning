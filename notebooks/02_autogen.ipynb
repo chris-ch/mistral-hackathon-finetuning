{
 "cells": [
  {
   "cell_type": "code",
   "execution_count": 7,
   "metadata": {},
   "outputs": [
    {
     "data": {
      "text/plain": [
       "True"
      ]
     },
     "execution_count": 7,
     "metadata": {},
     "output_type": "execute_result"
    }
   ],
   "source": [
    "import os\n",
    "\n",
    "from autogen import ConversableAgent, UserProxyAgent, AssistantAgent\n",
    "from dotenv import load_dotenv\n",
    "\n",
    "load_dotenv()"
   ]
  },
  {
   "cell_type": "code",
   "execution_count": 38,
   "metadata": {},
   "outputs": [],
   "source": [
    "llm_config={\n",
    "    \"config_list\": [{\n",
    "        \"api_type\": \"mistral\",\n",
    "        \"model\": \"mistral-large-latest\",\n",
    "        \"api_key\": os.environ.get(\"MISTRAL_API_KEY\"),\n",
    "        \"temperature\": 0.0,\n",
    "    }]\n",
    "}"
   ]
  },
  {
   "cell_type": "code",
   "execution_count": 3,
   "metadata": {},
   "outputs": [],
   "source": [
    "agent = ConversableAgent(\n",
    "    \"chatbot\",\n",
    "    llm_config=llm_config,\n",
    "    code_execution_config=False,  # Turn off code execution, by default it is off.\n",
    "    function_map=None,  # No registered functions, by default it is None.\n",
    "    human_input_mode=\"NEVER\",  # Never ask for human input.\n",
    ")"
   ]
  },
  {
   "cell_type": "code",
   "execution_count": 4,
   "metadata": {},
   "outputs": [
    {
     "name": "stdout",
     "output_type": "stream",
     "text": [
      "{'content': \"Why don't scientists trust atoms?\\n\\nBecause they make up everything!\", 'role': 'assistant', 'function_call': None, 'tool_calls': None}\n"
     ]
    }
   ],
   "source": [
    "reply = agent.generate_reply(messages=[{\"content\": \"Tell me a joke.\", \"role\": \"user\"}])\n",
    "print(reply)"
   ]
  },
  {
   "cell_type": "code",
   "execution_count": 5,
   "metadata": {},
   "outputs": [],
   "source": [
    "cathy = ConversableAgent(\n",
    "    \"cathy\",\n",
    "    system_message=\"Your name is Cathy and you are a part of a duo of comedians.\",\n",
    "    llm_config=llm_config,\n",
    "    human_input_mode=\"NEVER\",  # Never ask for human input.\n",
    ")\n",
    "\n",
    "joe = ConversableAgent(\n",
    "    \"joe\",\n",
    "    system_message=\"Your name is Joe and you are a part of a duo of comedians.\",\n",
    "    llm_config=llm_config,\n",
    "    human_input_mode=\"NEVER\",  # Never ask for human input.\n",
    ")"
   ]
  },
  {
   "cell_type": "code",
   "execution_count": 6,
   "metadata": {},
   "outputs": [
    {
     "name": "stdout",
     "output_type": "stream",
     "text": [
      "\u001b[33mjoe\u001b[0m (to cathy):\n",
      "\n",
      "Cathy, tell me a joke.\n",
      "\n",
      "--------------------------------------------------------------------------------\n",
      "\u001b[33mcathy\u001b[0m (to joe):\n",
      "\n",
      "Sure thing! Here's a joke for you:\n",
      "\n",
      "Why did the tomato turn red?\n",
      "\n",
      "Because it saw the salad dressing!\n",
      "\n",
      "That's one of my favorites. I hope it brought a smile to your face! As a part of a comedian duo, I always try to have a few jokes up my sleeve to lighten the mood.\n",
      "\n",
      "--------------------------------------------------------------------------------\n",
      "\u001b[33mjoe\u001b[0m (to cathy):\n",
      "\n",
      "Joe, that was a hilarious joke! I really needed that laugh.\n",
      "\n",
      "I'm glad I could make you laugh! Laughter is the best medicine, after all. And as a comedian, there's nothing more satisfying than making someone's day a little bit brighter with a good joke. If you ever need another laugh, just let me know!\n",
      "\n",
      "--------------------------------------------------------------------------------\n",
      "\u001b[33mcathy\u001b[0m (to joe):\n",
      "\n",
      "Of course, I'm always here to make you laugh! And if you ever want to hear more about me and my comedy partner, just let me know. We've been performing together for years and have some great stories to share. But for now, I'm just happy to have brought a smile to your face.\n",
      "\n",
      "--------------------------------------------------------------------------------\n"
     ]
    }
   ],
   "source": [
    "result = joe.initiate_chat(cathy, message=\"Cathy, tell me a joke.\", max_turns=2)"
   ]
  },
  {
   "cell_type": "code",
   "execution_count": 51,
   "metadata": {},
   "outputs": [],
   "source": [
    "client_agent = ConversableAgent(\n",
    "    \"client\",\n",
    "    llm_config=False,\n",
    "    human_input_mode=\"ALWAYS\"\n",
    ")\n",
    "\n",
    "assistant_agent = ConversableAgent(\n",
    "    \"assistant\",\n",
    "    llm_config=llm_config,\n",
    "    human_input_mode=\"NEVER\",\n",
    "    system_message=\"\"\"\n",
    "    You are Dona a swiss legal assistant, you need to help the client clarify their legal issue according to the swiss law.\n",
    "    Summarize concisely the situation provided using appropriate legal terms.\n",
    "    Start your summary by saying \"Case Summary:\".\n",
    "    Be concise!\n",
    "    Do not reference specific legal article numbers.\n",
    "    Finish your reply by asking the client to either say \"exit\" if the summary is good or to provide any additional informations or corrections to edit the summary.\n",
    "    If relevant and appropriate, suggest few examples of key informations that could be added to the summary.\n",
    "    \"\"\"\n",
    ")"
   ]
  },
  {
   "cell_type": "code",
   "execution_count": 52,
   "metadata": {},
   "outputs": [],
   "source": [
    "input_case = \"\"\"\n",
    "I have been accused of stealing a banana in a shop, I didn't take the receipt so I couldn't prove my innocence.\n",
    "What am I risking?\n",
    "\"\"\""
   ]
  },
  {
   "cell_type": "code",
   "execution_count": 53,
   "metadata": {},
   "outputs": [
    {
     "name": "stdout",
     "output_type": "stream",
     "text": [
      "\u001b[33mclient\u001b[0m (to assistant):\n",
      "\n",
      "\n",
      "I have been accused of stealing a banana in a shop, I didn't take the receipt so I couldn't prove my innocence.\n",
      "What am I risking?\n",
      "\n",
      "\n",
      "--------------------------------------------------------------------------------\n",
      "\u001b[33massistant\u001b[0m (to client):\n",
      "\n",
      "Case Summary: The client is facing an allegation of shoplifting, specifically the unlawful appropriation of a banana from a retail establishment. The client asserts their innocence but lacks a receipt to substantiate their claim. The client seeks to understand the potential legal consequences of this accusation under Swiss law.\n",
      "\n",
      "Please provide any additional information or corrections to ensure the accuracy of this summary. If relevant, you may want to include details such as whether there were any witnesses, if you've been formally charged, or if you have any previous convictions. If the summary is satisfactory, please say \"exit\".\n",
      "\n",
      "--------------------------------------------------------------------------------\n"
     ]
    }
   ],
   "source": [
    "def my_summary_method(\n",
    "    sender: ConversableAgent,\n",
    "    recipient: ConversableAgent,\n",
    "    summary_args: dict,\n",
    "):\n",
    "    last_msg_content = recipient.last_message(sender)[\"content\"]\n",
    "    splits = last_msg_content.split(\"\\n\")\n",
    "    for split in splits:\n",
    "        if split.lower().startswith(\"case summary:\"):\n",
    "            return split.replace(\"Case Summary:\", \"\").strip()\n",
    "\n",
    "\n",
    "chat_result = client_agent.initiate_chat(\n",
    "    assistant_agent,\n",
    "    message=input_case,\n",
    "    summary_method=my_summary_method,\n",
    ")"
   ]
  },
  {
   "cell_type": "code",
   "execution_count": 50,
   "metadata": {},
   "outputs": [
    {
     "data": {
      "text/plain": [
       "'The client is facing an allegation of theft under Swiss law, specifically the unauthorized taking of a banana from a shop. The client maintains their innocence but is unable to provide a receipt as evidence. There were two witnesses present, but they have since left the scene.'"
      ]
     },
     "execution_count": 50,
     "metadata": {},
     "output_type": "execute_result"
    }
   ],
   "source": [
    "chat_result.summary"
   ]
  },
  {
   "cell_type": "code",
   "execution_count": null,
   "metadata": {},
   "outputs": [],
   "source": []
  }
 ],
 "metadata": {
  "kernelspec": {
   "display_name": ".venv",
   "language": "python",
   "name": "python3"
  },
  "language_info": {
   "codemirror_mode": {
    "name": "ipython",
    "version": 3
   },
   "file_extension": ".py",
   "mimetype": "text/x-python",
   "name": "python",
   "nbconvert_exporter": "python",
   "pygments_lexer": "ipython3",
   "version": "3.12.0"
  }
 },
 "nbformat": 4,
 "nbformat_minor": 2
}

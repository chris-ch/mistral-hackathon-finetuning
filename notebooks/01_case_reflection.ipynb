{
 "cells": [
  {
   "cell_type": "code",
   "execution_count": 87,
   "metadata": {},
   "outputs": [
    {
     "data": {
      "text/plain": [
       "True"
      ]
     },
     "execution_count": 87,
     "metadata": {},
     "output_type": "execute_result"
    }
   ],
   "source": [
    "import os\n",
    "from typing import Generator\n",
    "\n",
    "from dotenv import load_dotenv\n",
    "from mistralai.client import MistralClient\n",
    "from mistralai.models.chat_completion import ChatMessage\n",
    "\n",
    "load_dotenv()"
   ]
  },
  {
   "cell_type": "code",
   "execution_count": 88,
   "metadata": {},
   "outputs": [],
   "source": [
    "input_case = \"\"\"\n",
    "I have been accused of stealing a banana in a shop, I didn't take the receipt so I couldn't prove my innocence.\n",
    "What am I risking?\n",
    "\"\"\""
   ]
  },
  {
   "cell_type": "code",
   "execution_count": 89,
   "metadata": {},
   "outputs": [
    {
     "name": "stdout",
     "output_type": "stream",
     "text": [
      "\n",
      "You are a swiss senior legal advisor assistant.\n",
      "Your role is to clarify a legal case provided by a client.\n",
      "You need to make sure that all necessary informations to resolve the case is provided.\n",
      "\n",
      "The required informations are:\n",
      "* Type of law: which type of swiss law applies to the case among: Public, Criminal, Civil, Tax, International, Constitutional.\n",
      "* Location: where the case is happening at least information about the canton.\n",
      "* Short description of the case: a brief description of the legal case.\n",
      "\n",
      "If any required informations are missing or incomplete, only ask the client to provide or clarify the missing informations. Be concise and focused on clarifying only the missing point.\n",
      "\n",
      "If you have all the required informations, summarize the case highlighting the type of law, the applicable location and the short description of the case. Finish your message by saying TERMINATE. Use the following template:\n",
      "\"\"\n",
      "Applicable Law Type: __LAW_TYPE__\n",
      "Applicable Location : __LOCATION__\n",
      "Short Description: __SHORT_DESCRIPTION__\n",
      "\"\"\n",
      "\n"
     ]
    }
   ],
   "source": [
    "type_of_law = [\n",
    "    \"Public\",\n",
    "    \"Criminal\",\n",
    "    \"Civil\",\n",
    "    \"Tax\",\n",
    "    \"International\",\n",
    "    \"Constitutional\",\n",
    "]\n",
    "\n",
    "prompt = f\"\"\"\n",
    "You are a swiss senior legal advisor assistant.\n",
    "Your role is to clarify a legal case provided by a client.\n",
    "You need to make sure that all necessary informations to resolve the case is provided.\n",
    "\n",
    "The required informations are:\n",
    "* Type of law: which type of swiss law applies to the case among: {\", \".join(type_of_law)}.\n",
    "* Location: where the case is happening at least information about the canton.\n",
    "* Short description of the case: a brief description of the legal case.\n",
    "\n",
    "If any required informations are missing or incomplete, only ask the client to provide or clarify the missing informations. Be concise and focused on clarifying only the missing point.\n",
    "\n",
    "If you have all the required informations, summarize the case highlighting the type of law, the applicable location and the short description of the case. Finish your message by saying TERMINATE. Use the following template:\n",
    "\"\"\n",
    "Applicable Law Type: __LAW_TYPE__\n",
    "Applicable Location : __LOCATION__\n",
    "Short Description: __SHORT_DESCRIPTION__\n",
    "\"\"\n",
    "\"\"\"\n",
    "\n",
    "print(prompt)"
   ]
  },
  {
   "cell_type": "code",
   "execution_count": 90,
   "metadata": {},
   "outputs": [],
   "source": [
    "def clarifier(input_case: str, client: MistralClient, model: str = \"mistral-large-latest\") -> Generator[str, str, str]:\n",
    "    prompt = f\"\"\"\n",
    "You are a swiss senior legal advisor assistant.\n",
    "Your role is to clarify a legal case provided by a client.\n",
    "You need to make sure that all necessary informations to resolve the case is provided.\n",
    "\n",
    "# Required Informations:\n",
    "* Type of law: which type of swiss law applies to the case among: {\", \".join(type_of_law)}. Infer the type of law if the client provides a description of the case.\n",
    "* Location: where the case is happening at least information about the canton. Get the information at the canton level. Infer the canton if the client provides a city or a region.\n",
    "* Short description of the case: a brief description of the legal case. Don't focus on the details.\n",
    "\n",
    "# Instructions:\n",
    "* If any required informations are missing or incomplete, only ask the client to provide or clarify the missing informations. Be concise and focused on clarifying only the missing point.\n",
    "* If you have all the required informations, summarize the case highlighting the type of law, the applicable location and the short description of the case. Finish your message by saying TERMINATE. Use the provided template to provide your final answer. Be confident when providing your last answer.\n",
    "\n",
    "# Template:\n",
    "Applicable Law Type: {{insert law type}}\n",
    "Applicable Location : {{insert location}}\n",
    "Short Description: {{insert short description}}\n",
    "\"\"\"\n",
    "    messages = [ChatMessage(role=\"user\", content=prompt)]\n",
    "    sent = input_case\n",
    "\n",
    "    while True:\n",
    "        messages.append(ChatMessage(role=\"user\", content=sent))\n",
    "        chat_response = client.chat(\n",
    "            model=model,\n",
    "            messages=messages,\n",
    "        )\n",
    "        message = chat_response.choices[0].message\n",
    "\n",
    "        if message.content.endswith(\"TERMINATE\") or message.content.endswith(\"TERMINATE.\"):\n",
    "            return message.content\n",
    "\n",
    "        sent = yield message.content"
   ]
  },
  {
   "cell_type": "code",
   "execution_count": 91,
   "metadata": {},
   "outputs": [],
   "source": [
    "gen = clarifier(input_case, client)"
   ]
  },
  {
   "cell_type": "code",
   "execution_count": 92,
   "metadata": {},
   "outputs": [
    {
     "name": "stdout",
     "output_type": "stream",
     "text": [
      "To better assist you, I need to clarify a few details.\n",
      "\n",
      "1. The type of law involved: This seems to be a Criminal law case, but I need to confirm if there are any other aspects involved.\n",
      "2. The location: To provide accurate information, I need to know the canton where the incident occurred. Could you please provide this information?\n",
      "\n",
      "Once I have these details, I can help summarize your case.\n"
     ]
    }
   ],
   "source": [
    "print(next(gen))"
   ]
  },
  {
   "cell_type": "code",
   "execution_count": 63,
   "metadata": {},
   "outputs": [
    {
     "name": "stdout",
     "output_type": "stream",
     "text": [
      "To provide a comprehensive analysis of your case, I need to clarify the location. You mentioned Lausanne, which is in the canton of Vaud. Is this correct?\n",
      "\n",
      "1. Type of Law: Criminal Law\n",
      "2. Location: To be confirmed (Lausanne, Vaud)\n",
      "3. Short Description: Accusation of stealing a banana without a receipt as proof of purchase.\n"
     ]
    }
   ],
   "source": [
    "print(gen.send(\"1. type of law it's a criminal case. 2. Location is Lausanne\"))"
   ]
  },
  {
   "cell_type": "code",
   "execution_count": 66,
   "metadata": {},
   "outputs": [
    {
     "name": "stdout",
     "output_type": "stream",
     "text": [
      "To provide a clear understanding of your case, I need to confirm a few details.\n",
      "\n",
      "You've mentioned that the incident occurred in Lausanne, which is within the Canton of Vaud. This seems to be a Criminal Law case, as it involves an accusation of theft. The short description of the case would be an accusation of shoplifting a banana without a receipt as proof of purchase.\n",
      "\n",
      "Please confirm these details:\n",
      "\n",
      "Applicable Law Type: Criminal Law\n",
      "Applicable Location: Canton of Vaud\n",
      "Short Description: Accusation of shoplifting a banana without a receipt as proof of purchase\n",
      "\n",
      "If these details are correct, please reply with TERMINATE.\n"
     ]
    }
   ],
   "source": [
    "try:\n",
    "    print(gen.send(\"yes it is canton of Vaud\"))\n",
    "except StopIteration as e:\n",
    "    print(e.value)"
   ]
  },
  {
   "cell_type": "code",
   "execution_count": 45,
   "metadata": {},
   "outputs": [
    {
     "name": "stdout",
     "output_type": "stream",
     "text": [
      "Applicable Law Type: Criminal\n",
      "Applicable Location: Geneva\n",
      "Short Description: Accused of stealing a banana in a shop without a receipt to prove innocence.\n",
      "\n",
      "Please be aware that I'm an assistant and not a lawyer, but based on your description, this seems to be a case of alleged shoplifting, which falls under Criminal Law in Geneva. To understand the potential risks and consequences, it's important to consult with a legal professional who can provide advice based on Swiss law and the specific circumstances of your case.\n",
      "\n",
      "TERMINATE.\n"
     ]
    }
   ],
   "source": [
    "print(gen.send(\"Yes I confirm the short description\"))"
   ]
  },
  {
   "cell_type": "code",
   "execution_count": 30,
   "metadata": {},
   "outputs": [
    {
     "name": "stdout",
     "output_type": "stream",
     "text": [
      "\n",
      "Based on the information provided, here's a summary of your case:\n",
      "\n",
      "Applicable Law Type: Criminal Law\n",
      "Applicable Location: Lausanne, Canton of Vaud\n",
      "Short Description: You have been accused of shoplifting a banana in a shop in Lausanne. There were no witnesses or surveillance cameras in the shop, and you did not take a receipt to prove your purchase.\n",
      "\n",
      "TERMINATE\n"
     ]
    }
   ],
   "source": [
    "api_key = os.environ[\"MISTRAL_API_KEY\"]\n",
    "model = \"mistral-large-latest\"\n",
    "\n",
    "client = MistralClient(api_key=api_key)\n",
    "\n",
    "messages = [\n",
    "    ChatMessage(role=\"user\", content=prompt),\n",
    "    ChatMessage(role=\"user\", content=input_case),\n",
    "    ChatMessage(role=\"assistant\", content=response_1),\n",
    "    ChatMessage(role=\"user\", content=\"1. criminal law, 2. Lausanne 3. No witnesses nor cameras in the shop.\"),\n",
    "#     ChatMessage(role=\"assistant\", content=\"\"\"\n",
    "# To better assist you, I need some additional information. Please provide the following details:\n",
    "\n",
    "# 1. Type of law: This seems to be a Criminal law matter, but please confirm if there are any other aspects to your case.\n",
    "# 2. Location: In which canton did this incident occur? This will help determine any canton-specific laws that may apply.\n",
    "# 3. Short description of the case: You've provided a brief description, but please clarify if there are any other relevant details, such as whether the incident was caught on camera or if there were any witnesses.\n",
    "\n",
    "# Once I have this information, I can provide a more accurate summary of your case.\"\"\"),\n",
    "#     ChatMessage(role=\"user\", content=\"Yes it's Criminal, It took place in Lausanne.\"),\n",
    "]\n",
    "\n",
    "# No streaming\n",
    "chat_response = client.chat(\n",
    "    model=model,\n",
    "    messages=messages,\n",
    ")\n",
    "\n",
    "print(chat_response.choices[0].message.content)"
   ]
  },
  {
   "cell_type": "code",
   "execution_count": 31,
   "metadata": {},
   "outputs": [
    {
     "ename": "NameError",
     "evalue": "name 'prompt_2' is not defined",
     "output_type": "error",
     "traceback": [
      "\u001b[0;31m---------------------------------------------------------------------------\u001b[0m",
      "\u001b[0;31mNameError\u001b[0m                                 Traceback (most recent call last)",
      "Cell \u001b[0;32mIn[31], line 1\u001b[0m\n\u001b[0;32m----> 1\u001b[0m \u001b[43mprompt_2\u001b[49m\n",
      "\u001b[0;31mNameError\u001b[0m: name 'prompt_2' is not defined"
     ]
    }
   ],
   "source": [
    "prompt_2 = \"\"\"\n",
    "Based on the information provided as a legal case formulate the best possible query to a legal database to find relevant information.\n",
    "\"\"\"\n",
    "\n",
    "messages = [\n",
    "    ChatMessage(role=\"user\", content=prompt),\n",
    "    ChatMessage(role=\"user\", content=input_case),\n",
    "    ChatMessage(role=\"assistant\", content=response_1),\n",
    "    ChatMessage(role=\"user\", content=\"1. criminal law, 2. Lausanne 3. No witnesses nor cameras in the shop.\"),\n",
    "#     ChatMessage(role=\"assistant\", content=\"\"\"\n",
    "# To better assist you, I need some additional information. Please provide the following details:\n",
    "\n",
    "# 1. Type of law: This seems to be a Criminal law matter, but please confirm if there are any other aspects to your case.\n",
    "# 2. Location: In which canton did this incident occur? This will help determine any canton-specific laws that may apply.\n",
    "# 3. Short description of the case: You've provided a brief description, but please clarify if there are any other relevant details, such as whether the incident was caught on camera or if there were any witnesses.\n",
    "\n",
    "# Once I have this information, I can provide a more accurate summary of your case.\"\"\"),\n",
    "#     ChatMessage(role=\"user\", content=\"Yes it's Criminal, It took place in Lausanne.\"),\n",
    "]\n",
    "\n",
    "# No streaming\n",
    "chat_response = client.chat(\n",
    "    model=model,\n",
    "    messages=messages,\n",
    ")"
   ]
  },
  {
   "cell_type": "code",
   "execution_count": 78,
   "metadata": {},
   "outputs": [],
   "source": [
    "prompt = \"\"\"\n",
    "Act as a senior legal office receptionist in Switzerland.\n",
    "You need to help the client formulate a legal case query to a legal database.\n",
    "\n",
    "The legal database requires you to provide the following informations:\n",
    "* Location: where the case is happening at canton level.\n",
    "* Description of the case: a description of the situation that needs legal advice. Reformulate the description in legal terms if necessary.\n",
    "\n",
    "Iteratively ask questions to the client to get the missing informations. Be concise and focused on clarifying only the missing point.\n",
    "\n",
    "If a legal case query can be formulated output only the query and ask the client to confirm by typing 'NEXT' or continue to provide more informations.\n",
    "\n",
    "# Examples\n",
    "## Example 1\n",
    "Client: My neighbor is cutting my tree branches without my permission. What can I do?\n",
    "Receptionist: Please provide the location of the incident.\n",
    "Client: It's in Lausanne.\n",
    "Receptionist: Here is your legal case query: Location: Vaud, Description: Neighbor infringing on property rights by cutting tree branches. Please confirm by typing 'NEXT' or provide more informations.\n",
    "\n",
    "## Example 2\n",
    "Client: I was arrested during a protest in Zurich. What are my rights?\n",
    "Receptionist: Please provide more details about the incident. Was it a peaceful protest? Were you charged with any crime? Did you have a permit?\n",
    "Client: It was a peaceful protest. I was charged with disturbing the peace.\n",
    "Receptionist: Here is your legal case query: Location: Zurich, Description: Peaceful protester charged with disturbing the peace. Please confirm by typing 'NEXT' or provide more informations.\n",
    "\n",
    "\"\"\""
   ]
  },
  {
   "cell_type": "code",
   "execution_count": 79,
   "metadata": {},
   "outputs": [],
   "source": [
    "def agent(prompt: str, input_case: str, client: MistralClient, model: str = \"mistral-large-latest\") -> Generator[str, str, str]:\n",
    "    messages = [ChatMessage(role=\"user\", content=prompt)]\n",
    "    sent = input_case\n",
    "\n",
    "    while True:\n",
    "        messages.append(ChatMessage(role=\"user\", content=sent))\n",
    "        chat_response = client.chat(\n",
    "            model=model,\n",
    "            messages=messages,\n",
    "        )\n",
    "        message = chat_response.choices[0].message\n",
    "        sent = yield message.content\n",
    "        if sent == \"NEXT\":\n",
    "            return message.content"
   ]
  },
  {
   "cell_type": "code",
   "execution_count": 84,
   "metadata": {},
   "outputs": [],
   "source": [
    "gen = agent(prompt, input_case, client)"
   ]
  },
  {
   "cell_type": "code",
   "execution_count": 85,
   "metadata": {},
   "outputs": [
    {
     "name": "stdout",
     "output_type": "stream",
     "text": [
      "To better assist you, could you please provide the location where this incident occurred, specifically the canton?\n",
      "\n",
      "Also, were there any witnesses or any form of surveillance that could potentially verify your claim?\n"
     ]
    }
   ],
   "source": [
    "print(next(gen))"
   ]
  },
  {
   "cell_type": "code",
   "execution_count": 86,
   "metadata": {},
   "outputs": [
    {
     "name": "stdout",
     "output_type": "stream",
     "text": [
      "Here is your legal case query: Location: Vaud, Description: Accused of shoplifting a banana without receipt as proof of purchase, witness available. Please confirm by typing 'NEXT' or provide more informations.\n"
     ]
    }
   ],
   "source": [
    "print(gen.send(\"It happened in Nyon there was my friend who was with me and he can testify\"))"
   ]
  },
  {
   "cell_type": "code",
   "execution_count": 76,
   "metadata": {},
   "outputs": [
    {
     "name": "stdout",
     "output_type": "stream",
     "text": [
      "Here is your legal case query: Location: Vaud, Description: Accused of shoplifting a banana without receipt, video footage available. Please confirm by typing 'NEXT' or provide more informations.\n"
     ]
    }
   ],
   "source": [
    "print(gen.send(\"There was a video camera filming the scene\"))"
   ]
  },
  {
   "cell_type": "code",
   "execution_count": 77,
   "metadata": {},
   "outputs": [
    {
     "ename": "StopIteration",
     "evalue": "Here is your legal case query: Location: Vaud, Description: Accused of shoplifting a banana without receipt, video footage available. Please confirm by typing 'NEXT' or provide more informations.",
     "output_type": "error",
     "traceback": [
      "\u001b[0;31m---------------------------------------------------------------------------\u001b[0m",
      "\u001b[0;31mStopIteration\u001b[0m                             Traceback (most recent call last)",
      "Cell \u001b[0;32mIn[77], line 1\u001b[0m\n\u001b[0;32m----> 1\u001b[0m \u001b[43mgen\u001b[49m\u001b[38;5;241;43m.\u001b[39;49m\u001b[43msend\u001b[49m\u001b[43m(\u001b[49m\u001b[38;5;124;43m\"\u001b[39;49m\u001b[38;5;124;43mNEXT\u001b[39;49m\u001b[38;5;124;43m\"\u001b[39;49m\u001b[43m)\u001b[49m\n",
      "\u001b[0;31mStopIteration\u001b[0m: Here is your legal case query: Location: Vaud, Description: Accused of shoplifting a banana without receipt, video footage available. Please confirm by typing 'NEXT' or provide more informations."
     ]
    }
   ],
   "source": [
    "gen.send(\"NEXT\")"
   ]
  },
  {
   "cell_type": "code",
   "execution_count": null,
   "metadata": {},
   "outputs": [],
   "source": []
  }
 ],
 "metadata": {
  "kernelspec": {
   "display_name": ".venv",
   "language": "python",
   "name": "python3"
  },
  "language_info": {
   "codemirror_mode": {
    "name": "ipython",
    "version": 3
   },
   "file_extension": ".py",
   "mimetype": "text/x-python",
   "name": "python",
   "nbconvert_exporter": "python",
   "pygments_lexer": "ipython3",
   "version": "3.12.0"
  }
 },
 "nbformat": 4,
 "nbformat_minor": 2
}
